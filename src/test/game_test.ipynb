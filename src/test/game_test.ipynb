{
 "cells": [
  {
   "cell_type": "code",
   "execution_count": 2,
   "metadata": {},
   "outputs": [
    {
     "name": "stdout",
     "output_type": "stream",
     "text": [
      "/Users/macbook/Documents/Code/game\n"
     ]
    },
    {
     "data": {
      "text/plain": [
       "'/Users/macbook/Documents/Code/game'"
      ]
     },
     "execution_count": 2,
     "metadata": {},
     "output_type": "execute_result"
    }
   ],
   "source": [
    "import os\n",
    "%cd ..\n",
    "os.getcwd()"
   ]
  },
  {
   "cell_type": "code",
   "execution_count": 3,
   "metadata": {},
   "outputs": [
    {
     "name": "stdout",
     "output_type": "stream",
     "text": [
      "pygame 2.6.1 (SDL 2.28.4, Python 3.8.18)\n",
      "Hello from the pygame community. https://www.pygame.org/contribute.html\n"
     ]
    }
   ],
   "source": [
    "import pygame\n",
    "from src.animation import Animation\n",
    "from src.utils import load_dict_from_folder"
   ]
  },
  {
   "cell_type": "code",
   "execution_count": 4,
   "metadata": {},
   "outputs": [],
   "source": [
    "pygame.init()\n",
    "WIDTH, HEIGHT = 1280, 720\n",
    "screen = pygame.display.set_mode((WIDTH, HEIGHT))\n",
    "clock = pygame.time.Clock()\n",
    "running = True\n",
    "player_x, player_y = WIDTH // 2, HEIGHT // 2\n",
    "player_size = 50 # 50 x 50\n",
    "image_path = os.path.join(\"images\", \"backgrounds\", \"volcano.png\")\n",
    "\n",
    "background = pygame.image.load(image_path)\n",
    "background = pygame.transform.scale(background, (WIDTH, HEIGHT))\n"
   ]
  },
  {
   "cell_type": "code",
   "execution_count": 5,
   "metadata": {},
   "outputs": [],
   "source": [
    "player_dict = load_dict_from_folder(\"images/characters/mark\")"
   ]
  },
  {
   "cell_type": "code",
   "execution_count": 12,
   "metadata": {},
   "outputs": [],
   "source": [
    "import pygame\n",
    "\n",
    "class Player:\n",
    "    def __init__(self, x, y, speed):\n",
    "        self.x = x\n",
    "        self.y = y\n",
    "        self.base_speed = speed\n",
    "        self.speed = speed  # Maintain current speed separately\n",
    "        self.state = \"idle\"\n",
    "        self.facing_right = True\n",
    "        self.is_running = False\n",
    "        self.last_press_d = 0\n",
    "        self.last_press_a = 0\n",
    "        \n",
    "        self.animations = {\n",
    "            \"idle\": Animation(player_dict[\"idle\"], 100),\n",
    "            \"move\": Animation(player_dict[\"move\"], 100),\n",
    "            \"attack\": Animation(player_dict[\"attack\"], 150),\n",
    "            \"run\": Animation(player_dict[\"run\"], 150),\n",
    "        }\n",
    "\n",
    "    def handle_event(self, event):\n",
    "        \"\"\"Handle key presses for running and attacking\"\"\"\n",
    "        current_time = pygame.time.get_ticks()\n",
    "\n",
    "        if event.type == pygame.KEYDOWN:\n",
    "            if event.key == pygame.K_d:\n",
    "                if current_time - self.last_press_d < 300:  # Double-tap within 300ms\n",
    "                    self.start_running(direction=\"right\")\n",
    "                else:\n",
    "                    self.is_running = False\n",
    "                self.last_press_d = current_time  # Update last press time\n",
    "            \n",
    "            elif event.key == pygame.K_a:\n",
    "                if current_time - self.last_press_a < 300:  # Double-tap within 300ms\n",
    "                    self.start_running(direction=\"left\")\n",
    "                else:\n",
    "                    self.is_running = False\n",
    "                self.last_press_a = current_time  # Update last press time\n",
    "            \n",
    "            # elif event.key == pygame.K_j:\n",
    "            #     self.attack()  # Attack when pressing \"J\"\n",
    "\n",
    "    def start_running(self, direction):\n",
    "        self.is_running = True\n",
    "        self.state = \"run\"\n",
    "        self.speed = self.base_speed * 3\n",
    "        self.facing_right = (direction == \"right\")\n",
    "        \n",
    "    def move(self, keys):\n",
    "        \"\"\"Handles movement when keys are held\"\"\"\n",
    "        moving = False\n",
    "        #handle stopping if player is running\n",
    "        if self.is_running:\n",
    "            if (self.facing_right and keys[pygame.K_a]) or (not self.facing_right and keys[pygame.K_d]):\n",
    "                self.is_running = False\n",
    "                self.speed = self.base_speed\n",
    "                self.state = \"idle\"\n",
    "            \n",
    "            elif self.facing_right:\n",
    "                if self.x + 80 + self.speed < WIDTH:\n",
    "                    self.x += self.speed  # Move forward\n",
    "                    moving = True\n",
    "            else:\n",
    "                if self.x - self.speed > 0:\n",
    "                    self.x -= self.speed  # Move backward\n",
    "                    moving = True\n",
    "            \n",
    "            if keys[pygame.K_w]:\n",
    "                if self.y - self.base_speed > 0:\n",
    "                    self.y -= self.base_speed\n",
    "                moving = True\n",
    "\n",
    "            if keys[pygame.K_s]:\n",
    "                if self.y + 80 + self.base_speed < HEIGHT:\n",
    "                    self.y += self.base_speed\n",
    "                moving = True\n",
    "\n",
    "                \n",
    "        if not self.is_running:  # Only move if not running\n",
    "            if keys[pygame.K_d]:\n",
    "                self.facing_right = True\n",
    "                if self.x + 80 + self.base_speed < WIDTH:\n",
    "                    self.x += self.base_speed\n",
    "                moving = True\n",
    "\n",
    "            if keys[pygame.K_a]:\n",
    "                self.facing_right = False\n",
    "                if self.x - self.base_speed > 0:\n",
    "                    self.x -= self.base_speed\n",
    "                moving = True\n",
    "\n",
    "            if keys[pygame.K_w]:\n",
    "                if self.y - self.base_speed > 0:\n",
    "                    self.y -= self.base_speed\n",
    "                moving = True\n",
    "\n",
    "            if keys[pygame.K_s]:\n",
    "                if self.y + 80 + self.base_speed < HEIGHT:\n",
    "                    self.y += self.base_speed\n",
    "                moving = True\n",
    "        \n",
    "            if moving:\n",
    "                self.state = \"move\"\n",
    "        if moving == False:\n",
    "            self.state = \"idle\"  # No movement, go idle\n",
    "\n",
    "    def idle(self):\n",
    "        \"\"\"Reset player to idle state\"\"\"\n",
    "        self.state = \"idle\"\n",
    "        self.speed = self.base_speed\n",
    "\n",
    "    def attack(self):\n",
    "        \"\"\"Player attacks\"\"\"\n",
    "        self.state = \"attack\"\n",
    "\n",
    "    def draw(self, screen):\n",
    "        \"\"\"Draw the player on screen\"\"\"\n",
    "        frame = self.animations[self.state].get_current_frame()\n",
    "        if not self.facing_right:\n",
    "            frame = pygame.transform.flip(frame, True, False)\n",
    "        screen.blit(frame, (self.x, self.y))\n"
   ]
  },
  {
   "cell_type": "code",
   "execution_count": null,
   "metadata": {},
   "outputs": [],
   "source": [
    "player = Player(100, 100, speed=2)\n",
    "\n",
    "running = True\n",
    "clock = pygame.time.Clock()\n",
    "\n",
    "while running:\n",
    "    screen.blit(background, (0, 0))\n",
    "    keys = pygame.key.get_pressed()\n",
    "    \n",
    "    for event in pygame.event.get():\n",
    "        if event.type == pygame.QUIT:\n",
    "            running = False\n",
    "        elif event.type == pygame.KEYDOWN:\n",
    "            player.handle_event(event)\n",
    "\n",
    "    player.move(keys)\n",
    "    if keys[pygame.K_j]:\n",
    "        player.attack()\n",
    "    \n",
    "    player.draw(screen)\n",
    "    pygame.display.flip()  # Refresh display\n",
    "    clock.tick(60)  # 60 FPS\n",
    "\n",
    "pygame.quit()\n"
   ]
  },
  {
   "cell_type": "code",
   "execution_count": null,
   "metadata": {},
   "outputs": [],
   "source": []
  },
  {
   "cell_type": "code",
   "execution_count": null,
   "metadata": {},
   "outputs": [],
   "source": []
  }
 ],
 "metadata": {
  "kernelspec": {
   "display_name": "fighting",
   "language": "python",
   "name": "python3"
  },
  "language_info": {
   "codemirror_mode": {
    "name": "ipython",
    "version": 3
   },
   "file_extension": ".py",
   "mimetype": "text/x-python",
   "name": "python",
   "nbconvert_exporter": "python",
   "pygments_lexer": "ipython3",
   "version": "3.8.18"
  }
 },
 "nbformat": 4,
 "nbformat_minor": 2
}
