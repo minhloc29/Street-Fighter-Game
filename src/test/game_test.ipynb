{
 "cells": [
  {
   "cell_type": "code",
   "execution_count": 3,
   "metadata": {},
   "outputs": [
    {
     "name": "stdout",
     "output_type": "stream",
     "text": [
      "/Users/macbook/Documents/Code/game\n"
     ]
    },
    {
     "data": {
      "text/plain": [
       "'/Users/macbook/Documents/Code/game'"
      ]
     },
     "execution_count": 3,
     "metadata": {},
     "output_type": "execute_result"
    }
   ],
   "source": [
    "import os\n",
    "%cd ..\n",
    "os.getcwd()"
   ]
  },
  {
   "cell_type": "code",
   "execution_count": 45,
   "metadata": {},
   "outputs": [],
   "source": [
    "import pygame\n",
    "import importlib\n",
    "\n",
    "import src.animation\n",
    "import src.character\n",
    "import src.player\n",
    "import src.ai_character\n",
    "\n",
    "importlib.reload(src.animation)\n",
    "importlib.reload(src.character)\n",
    "importlib.reload(src.player)\n",
    "importlib.reload(src.ai_character)\n",
    "\n",
    "from src.animation import Animation\n",
    "from src.character import Character\n",
    "from src.player import PlayerCharacter\n",
    "from src.ai_character import AICharacter\n",
    "\n",
    "from src.utils import load_dict_from_folder"
   ]
  },
  {
   "cell_type": "code",
   "execution_count": 46,
   "metadata": {},
   "outputs": [],
   "source": [
    "pygame.init()\n",
    "WIDTH, HEIGHT = 1280, 720\n",
    "screen = pygame.display.set_mode((WIDTH, HEIGHT))\n",
    "clock = pygame.time.Clock()\n",
    "running = True\n",
    "player_x, player_y = WIDTH // 2, HEIGHT // 2\n",
    "player_size = 50 # 50 x 50\n",
    "image_path = os.path.join(\"images\", \"backgrounds\", \"volcano.png\")\n",
    "\n",
    "background = pygame.image.load(image_path)\n",
    "background = pygame.transform.scale(background, (WIDTH, HEIGHT))\n"
   ]
  },
  {
   "cell_type": "code",
   "execution_count": null,
   "metadata": {},
   "outputs": [],
   "source": [
    "player_dict = load_dict_from_folder(\"images/characters/mark\")\n",
    "player_dict"
   ]
  },
  {
   "cell_type": "code",
   "execution_count": 49,
   "metadata": {},
   "outputs": [],
   "source": [
    "player = PlayerCharacter(100, 100, speed=2, sprite_dict=player_dict)\n",
    "enemy1 = AICharacter(600, 400, speed=2, sprite_dict=player_dict)\n",
    "enemy2 = AICharacter(500, 400, speed=2, sprite_dict=player_dict)"
   ]
  },
  {
   "cell_type": "code",
   "execution_count": 50,
   "metadata": {},
   "outputs": [],
   "source": [
    "all_agents = pygame.sprite.Group()\n",
    "enemy_group = pygame.sprite.Group()\n",
    "all_agents.add(player, enemy1, enemy2)\n",
    "enemy_group.add(enemy1, enemy2)"
   ]
  },
  {
   "cell_type": "code",
   "execution_count": null,
   "metadata": {},
   "outputs": [],
   "source": [
    "\n",
    "background = pygame.image.load(\"images/backgrounds/good_back.jpg\")\n",
    "background = pygame.transform.scale(background, screen.get_size())\n",
    "\n",
    "running = True\n",
    "while running:\n",
    "    screen.blit(background, (0, 0))  \n",
    "    keys = pygame.key.get_pressed()\n",
    "    events = pygame.event.get()\n",
    "    \n",
    "    for agent in all_agents:\n",
    "        collisions = pygame.sprite.spritecollide(agent, all_agents, False)\n",
    "        collisions = [coll for coll in collisions if coll != agent]\n",
    "    # collided_enemies = pygame.sprite.spritecollide(player, enemy_group, False)\n",
    "        if collisions:\n",
    "            # Collision detected\n",
    "            print(\"Collision detected!\")\n",
    "            # For example, if the player is attacking, damage the enemy.\n",
    "            if agent.is_attacking:\n",
    "                for col in collisions:\n",
    "                    col.take_damage(10)\n",
    "    \n",
    "    for event in events:\n",
    "        if event.type == pygame.QUIT:\n",
    "            running = False\n",
    "    enemy_group.update()\n",
    "    player.update(keys, events, enemy_group)\n",
    "    # print(f\"Position: {player.x, player.y}\")\n",
    "    for agent in all_agents:\n",
    "        agent.draw(screen)\n",
    "        if agent.is_dead:\n",
    "            agent.kill()\n",
    "  \n",
    "    pygame.display.flip()\n",
    "    clock.tick(60) \n"
   ]
  },
  {
   "cell_type": "code",
   "execution_count": null,
   "metadata": {},
   "outputs": [],
   "source": []
  }
 ],
 "metadata": {
  "kernelspec": {
   "display_name": "fighting",
   "language": "python",
   "name": "python3"
  },
  "language_info": {
   "codemirror_mode": {
    "name": "ipython",
    "version": 3
   },
   "file_extension": ".py",
   "mimetype": "text/x-python",
   "name": "python",
   "nbconvert_exporter": "python",
   "pygments_lexer": "ipython3",
   "version": "3.8.18"
  }
 },
 "nbformat": 4,
 "nbformat_minor": 2
}
