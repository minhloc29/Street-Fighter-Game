{
 "cells": [
  {
   "cell_type": "code",
   "execution_count": null,
   "metadata": {},
   "outputs": [],
   "source": [
    "import os\n",
    "%cd ..\n",
    "os.getcwd()"
   ]
  },
  {
   "cell_type": "code",
   "execution_count": 5,
   "metadata": {},
   "outputs": [],
   "source": [
    "import pygame\n",
    "import importlib\n",
    "import src.animation\n",
    "importlib.reload(src.animation)\n",
    "from src.animation import Animation\n",
    "from src.utils import load_dict_from_folder"
   ]
  },
  {
   "cell_type": "code",
   "execution_count": 16,
   "metadata": {},
   "outputs": [],
   "source": [
    "pygame.init()\n",
    "WIDTH, HEIGHT = 1280, 720\n",
    "screen = pygame.display.set_mode((WIDTH, HEIGHT))\n",
    "clock = pygame.time.Clock()\n",
    "running = True\n",
    "player_x, player_y = WIDTH // 2, HEIGHT // 2\n",
    "player_size = 50 # 50 x 50\n",
    "image_path = os.path.join(\"images\", \"backgrounds\", \"volcano.png\")\n",
    "\n",
    "background = pygame.image.load(image_path)\n",
    "background = pygame.transform.scale(background, (WIDTH, HEIGHT))\n"
   ]
  },
  {
   "cell_type": "code",
   "execution_count": 7,
   "metadata": {},
   "outputs": [
    {
     "data": {
      "text/plain": [
       "{'movement': {'walk': {'left': ['A'],\n",
       "   'right': ['D'],\n",
       "   'up': ['W'],\n",
       "   'down': ['S']},\n",
       "  'run': {'left': ['A', 'A'],\n",
       "   'right': ['D', 'D'],\n",
       "   'stop_conditions': {'left': ['D'], 'right': ['A']}}},\n",
       " 'actions': {'attack': {'normal': ['J'],\n",
       "   'running': {'input': ['J'], 'stop_after_attack': True}},\n",
       "  'defend': ['K'],\n",
       "  'jump': ['L']},\n",
       " 'timings': {'double_tap_window_ms': 300,\n",
       "  'attack_cooldown_ms': 500,\n",
       "  'defend_duration_ms': 1000,\n",
       "  'jump_duration_ms': 400}}"
      ]
     },
     "execution_count": 7,
     "metadata": {},
     "output_type": "execute_result"
    }
   ],
   "source": [
    "import json\n",
    "with open(\"data/input.json\") as f:\n",
    "    combos = json.load(f)\n",
    "combos"
   ]
  },
  {
   "cell_type": "code",
   "execution_count": 11,
   "metadata": {},
   "outputs": [
    {
     "data": {
      "text/plain": [
       "{}"
      ]
     },
     "execution_count": 11,
     "metadata": {},
     "output_type": "execute_result"
    }
   ],
   "source": [
    "combos['movement']['walk'].clear()\n",
    "\n",
    "combos['movement']['walk']"
   ]
  },
  {
   "cell_type": "code",
   "execution_count": null,
   "metadata": {},
   "outputs": [],
   "source": [
    "class Player:\n",
    "    def __init__(self, config):\n",
    "        self.x = x\n",
    "        self.y = y\n",
    "        self.base_speed = speed\n",
    "        self.animations = animations\n",
    "        self.state = \"idle\"\n",
    "        self.is_running = False\n",
    "        \n",
    "    def update(self, events, keys):\n",
    "        current_time = pygame.time.get_ticks()\n",
    "        for event in events:\n",
    "            if event.type == pygame.KEYDOWN:\n",
    "                if self.is_running:\n",
    "    \n",
    "    def draw(self, screen):\n",
    "        pass"
   ]
  },
  {
   "cell_type": "code",
   "execution_count": null,
   "metadata": {},
   "outputs": [],
   "source": [
    "class InputSystem:\n",
    "    def __init__(self, player):\n",
    "        self.player = player\n",
    "        self.buffer = []\n",
    "        self.last_input_time = 0\n",
    "        \n",
    "    def update(self, events):\n",
    "        current_time = pygame.time.get_ticks()\n",
    "        for event in events:\n",
    "            if event.type == pygame.KEYDOWN:\n",
    "                key = pygame.key.name(event.key).upper()\n",
    "                self.buffer.append((key, current_time))\n",
    "        \n",
    "        # Clean old inputs\n",
    "        self.buffer = [\n",
    "            (k, t) for k, t in self.buffer \n",
    "            if current_time - t < self.player.config[\"timings\"][\"double_tap_window_ms\"]\n",
    "        ]"
   ]
  },
  {
   "cell_type": "code",
   "execution_count": null,
   "metadata": {},
   "outputs": [],
   "source": [
    "class MovementSystem:\n",
    "    def __init__(self, player):\n",
    "        self.player = player\n",
    "        self.is_running = False\n",
    "        self.facing_right = True\n",
    "        self.last_key_press = {} # {'A': '35.45'} for ex\n",
    "    \n",
    "    def detect_double_tap(self, key): #this function only works with doutaps of 2 keyssame\n",
    "        current_time = pygame.time.get_ticks()\n",
    "        if key in self.last_key_press:\n",
    "            last_time = self.last_key_press[key]\n",
    "            if current_time - last_time < 300:\n",
    "                self.last_key_press.clear()\n",
    "                print(\"Detect double tap\")\n",
    "                return True\n",
    "        self.last_key_press[key] = current_time\n",
    "        return False\n",
    "        \n",
    "    def update(self):\n",
    "        walk_cfg = self.player.config['movement']['walk']\n",
    "        run_cfg = self.player.config['movement']['run']\n",
    "        \n",
    "        if self.detect_double_tap(\"D\"):\n",
    "            self.is_running = True\n",
    "            self.facing_right = True\n",
    "            \n",
    "        elif self.detect_double_tap(\"A\"):\n",
    "            self.is_running = True\n",
    "            self.facing_right = False\n",
    "            \n",
    "        if self.is_running:\n",
    "            stop_keys = run_cfg[\"stop_conditions\"][\"right\"] if self.facing_right else run_cfg[\"stop_conditions\"][\"left\"]\n",
    "            if any(k in self.player.components['input'].buffer for k in stop_keys):\n",
    "                self.is_running = False\n",
    "\n",
    "        "
   ]
  },
  {
   "cell_type": "code",
   "execution_count": 22,
   "metadata": {},
   "outputs": [
    {
     "data": {
      "text/plain": [
       "{'attack': <Surface(320x80x32 SW)>,\n",
       " 'defend': <Surface(160x80x32 SW)>,\n",
       " 'idle': <Surface(320x80x32 SW)>,\n",
       " 'jump': <Surface(240x80x32 SW)>,\n",
       " 'move': <Surface(320x80x32 SW)>,\n",
       " 'run': <Surface(240x80x32 SW)>,\n",
       " 'run_attack': <Surface(560x80x32 SW)>}"
      ]
     },
     "execution_count": 22,
     "metadata": {},
     "output_type": "execute_result"
    }
   ],
   "source": [
    "player_dict = load_dict_from_folder(\"images/characters/mark\")\n",
    "player_dict"
   ]
  },
  {
   "cell_type": "code",
   "execution_count": 24,
   "metadata": {},
   "outputs": [],
   "source": [
    "class StateManager:\n",
    "    STATES = [\"idle\", \"walk\", \"run\", \"attack\", \"defend\", \"jump\"]\n",
    "    \n",
    "    def __init__(self):\n",
    "        self.current = \"idle\"\n",
    "        self.previous = None\n",
    "    \n",
    "    def change(self, new_state):\n",
    "        if new_state in self.STATES:\n",
    "            self.previous = self.current\n",
    "            self.current = new_state"
   ]
  },
  {
   "cell_type": "code",
   "execution_count": 25,
   "metadata": {},
   "outputs": [],
   "source": [
    "class Animations:\n",
    "    def __init__(self):\n",
    "        self.animations = {\n",
    "            \"idle\": Animation(player_dict[\"idle\"], 300),\n",
    "            \"move\": Animation(player_dict[\"move\"], 150),\n",
    "            \"attack\": Animation(player_dict[\"attack\"], 200),\n",
    "            \"run\": Animation(player_dict[\"run\"], 150),\n",
    "            \"defend\": Animation(player_dict[\"defend\"], 300),\n",
    "            \"jump\": Animation(player_dict[\"jump\"], 200),\n",
    "            \"run_attack\": Animation(player_dict[\"run_attack\"], 150)\n",
    "        }\n",
    "        \n",
    "    def update(self, state, facing_right):\n",
    "        animation = self.animations.get(state.lower(), self.animations[\"idle\"]) # state attack, ATTACK, attACK\n",
    "        if self.current_animation != animation:\n",
    "            self.current_animation = animation\n",
    "            self.current_frame = 0\n",
    "            self.last_update = pygame.time.get_ticks()\n",
    "        \n",
    "        # Advance frame if cooldown passed\n",
    "        now = pygame.time.get_ticks()\n",
    "        if now - self.last_update > animation.cooldown:\n",
    "            self.current_frame = (self.current_frame + 1) % animation.frame_num\n",
    "            self.last_update = now\n",
    "\n",
    "    def get_current_frame(self):\n",
    "        \"\"\"Returns properly flipped frame based on facing direction\"\"\"\n",
    "        frame = self.current_animation.frames[self.current_frame]\n",
    "        return pygame.transform.flip(frame, not self.facing_right, False)"
   ]
  },
  {
   "cell_type": "code",
   "execution_count": 27,
   "metadata": {},
   "outputs": [],
   "source": [
    "class Player:\n",
    "    def __init__(self, config):\n",
    "        self.config = config\n",
    "        self.components = {\n",
    "            'input': InputSystem(self),\n",
    "            'movement': MovementSystem(self),\n",
    "            'animations': Animations(),\n",
    "            # 'actions': ActionSystem(self),\n",
    "            'state': StateManager()\n",
    "        }\n",
    "    \n",
    "    def update(self, events):\n",
    "        self.components['input'].update(events)\n",
    "        self.components['movement'].update()\n",
    "        self.components['animation'].update(\n",
    "            state=self.components['state'].current,\n",
    "            facing_right=self.components['movement'].facing_right\n",
    "        )\n",
    "\n",
    "    def draw(self, screen):\n",
    "        frame = self.components['animation'].get_current_frame()\n",
    "        screen.blit(frame, (self.x, self.y))\n",
    "        \n",
    "    # def draw(self, screen):\n",
    "    #     \"\"\"Draw the player on screen\"\"\"\n",
    "    #     frame = self.animations[self.state].get_current_frame()\n",
    "    #     if not self.facing_right:\n",
    "    #         frame = pygame.transform.flip(frame, True, False)\n",
    "    #     screen.blit(frame, (self.x, self.y))\n"
   ]
  },
  {
   "cell_type": "code",
   "execution_count": 21,
   "metadata": {},
   "outputs": [
    {
     "name": "stdout",
     "output_type": "stream",
     "text": [
      "Detect double tap\n",
      "Detect double tap\n",
      "Detect double tap\n",
      "Detect double tap\n",
      "Detect double tap\n",
      "Detect double tap\n"
     ]
    },
    {
     "ename": "KeyboardInterrupt",
     "evalue": "",
     "output_type": "error",
     "traceback": [
      "\u001b[0;31m---------------------------------------------------------------------------\u001b[0m",
      "\u001b[0;31mKeyboardInterrupt\u001b[0m                         Traceback (most recent call last)",
      "Cell \u001b[0;32mIn[21], line 19\u001b[0m\n\u001b[1;32m     17\u001b[0m         move\u001b[38;5;241m.\u001b[39mdetect_double_tap(event\u001b[38;5;241m.\u001b[39mkey)\n\u001b[1;32m     18\u001b[0m pygame\u001b[38;5;241m.\u001b[39mdisplay\u001b[38;5;241m.\u001b[39mflip()\n\u001b[0;32m---> 19\u001b[0m \u001b[43mclock\u001b[49m\u001b[38;5;241;43m.\u001b[39;49m\u001b[43mtick\u001b[49m\u001b[43m(\u001b[49m\u001b[38;5;241;43m60\u001b[39;49m\u001b[43m)\u001b[49m \n",
      "\u001b[0;31mKeyboardInterrupt\u001b[0m: "
     ]
    }
   ],
   "source": [
    "move = MovementSystem(5)\n",
    "\n",
    "background = pygame.image.load(\"images/backgrounds/good_back.jpg\")\n",
    "background = pygame.transform.scale(background, screen.get_size())\n",
    "\n",
    "running = True\n",
    "while running:\n",
    "    # screen.blit(background, (0, 0))  \n",
    "    keys = pygame.key.get_pressed()\n",
    "    events = pygame.event.get()\n",
    "    \n",
    "    for event in events:\n",
    "        if event.type == pygame.QUIT:\n",
    "            running = False\n",
    "\n",
    "        if event.type == pygame.KEYDOWN:\n",
    "            move.detect_double_tap(event.key)\n",
    "    pygame.display.flip()\n",
    "    clock.tick(60) \n"
   ]
  },
  {
   "cell_type": "code",
   "execution_count": 28,
   "metadata": {},
   "outputs": [
    {
     "ename": "AttributeError",
     "evalue": "'list' object has no attribute 'get_width'",
     "output_type": "error",
     "traceback": [
      "\u001b[0;31m---------------------------------------------------------------------------\u001b[0m",
      "\u001b[0;31mAttributeError\u001b[0m                            Traceback (most recent call last)",
      "Cell \u001b[0;32mIn[28], line 26\u001b[0m\n\u001b[1;32m     15\u001b[0m     \u001b[38;5;28;01mreturn\u001b[39;00m {\n\u001b[1;32m     16\u001b[0m         \u001b[38;5;124m\"\u001b[39m\u001b[38;5;124midle\u001b[39m\u001b[38;5;124m\"\u001b[39m: Animation([pygame\u001b[38;5;241m.\u001b[39mSurface((\u001b[38;5;241m50\u001b[39m, \u001b[38;5;241m80\u001b[39m)) \u001b[38;5;28;01mfor\u001b[39;00m _ \u001b[38;5;129;01min\u001b[39;00m \u001b[38;5;28mrange\u001b[39m(\u001b[38;5;241m4\u001b[39m)], \u001b[38;5;241m300\u001b[39m),\n\u001b[1;32m     17\u001b[0m         \u001b[38;5;124m\"\u001b[39m\u001b[38;5;124mmove\u001b[39m\u001b[38;5;124m\"\u001b[39m: Animation([pygame\u001b[38;5;241m.\u001b[39mSurface((\u001b[38;5;241m50\u001b[39m, \u001b[38;5;241m80\u001b[39m)) \u001b[38;5;28;01mfor\u001b[39;00m _ \u001b[38;5;129;01min\u001b[39;00m \u001b[38;5;28mrange\u001b[39m(\u001b[38;5;241m6\u001b[39m)], \u001b[38;5;241m150\u001b[39m),\n\u001b[0;32m   (...)\u001b[0m\n\u001b[1;32m     22\u001b[0m         \u001b[38;5;124m\"\u001b[39m\u001b[38;5;124mrun_attack\u001b[39m\u001b[38;5;124m\"\u001b[39m: Animation([pygame\u001b[38;5;241m.\u001b[39mSurface((\u001b[38;5;241m70\u001b[39m, \u001b[38;5;241m80\u001b[39m)) \u001b[38;5;28;01mfor\u001b[39;00m _ \u001b[38;5;129;01min\u001b[39;00m \u001b[38;5;28mrange\u001b[39m(\u001b[38;5;241m8\u001b[39m)], \u001b[38;5;241m150\u001b[39m)\n\u001b[1;32m     23\u001b[0m     }\n\u001b[1;32m     25\u001b[0m \u001b[38;5;66;03m# Create player\u001b[39;00m\n\u001b[0;32m---> 26\u001b[0m player_animations \u001b[38;5;241m=\u001b[39m \u001b[43mload_animations\u001b[49m\u001b[43m(\u001b[49m\u001b[43m)\u001b[49m\n\u001b[1;32m     27\u001b[0m player \u001b[38;5;241m=\u001b[39m Player(x\u001b[38;5;241m=\u001b[39m\u001b[38;5;241m100\u001b[39m, y\u001b[38;5;241m=\u001b[39m\u001b[38;5;241m300\u001b[39m, speed\u001b[38;5;241m=\u001b[39m\u001b[38;5;241m5\u001b[39m, animations\u001b[38;5;241m=\u001b[39mplayer_animations)\n\u001b[1;32m     29\u001b[0m \u001b[38;5;66;03m# Main game loop\u001b[39;00m\n",
      "Cell \u001b[0;32mIn[28], line 16\u001b[0m, in \u001b[0;36mload_animations\u001b[0;34m()\u001b[0m\n\u001b[1;32m     14\u001b[0m \u001b[38;5;28;01mdef\u001b[39;00m \u001b[38;5;21mload_animations\u001b[39m():\n\u001b[1;32m     15\u001b[0m     \u001b[38;5;28;01mreturn\u001b[39;00m {\n\u001b[0;32m---> 16\u001b[0m         \u001b[38;5;124m\"\u001b[39m\u001b[38;5;124midle\u001b[39m\u001b[38;5;124m\"\u001b[39m: \u001b[43mAnimation\u001b[49m\u001b[43m(\u001b[49m\u001b[43m[\u001b[49m\u001b[43mpygame\u001b[49m\u001b[38;5;241;43m.\u001b[39;49m\u001b[43mSurface\u001b[49m\u001b[43m(\u001b[49m\u001b[43m(\u001b[49m\u001b[38;5;241;43m50\u001b[39;49m\u001b[43m,\u001b[49m\u001b[43m \u001b[49m\u001b[38;5;241;43m80\u001b[39;49m\u001b[43m)\u001b[49m\u001b[43m)\u001b[49m\u001b[43m \u001b[49m\u001b[38;5;28;43;01mfor\u001b[39;49;00m\u001b[43m \u001b[49m\u001b[43m_\u001b[49m\u001b[43m \u001b[49m\u001b[38;5;129;43;01min\u001b[39;49;00m\u001b[43m \u001b[49m\u001b[38;5;28;43mrange\u001b[39;49m\u001b[43m(\u001b[49m\u001b[38;5;241;43m4\u001b[39;49m\u001b[43m)\u001b[49m\u001b[43m]\u001b[49m\u001b[43m,\u001b[49m\u001b[43m \u001b[49m\u001b[38;5;241;43m300\u001b[39;49m\u001b[43m)\u001b[49m,\n\u001b[1;32m     17\u001b[0m         \u001b[38;5;124m\"\u001b[39m\u001b[38;5;124mmove\u001b[39m\u001b[38;5;124m\"\u001b[39m: Animation([pygame\u001b[38;5;241m.\u001b[39mSurface((\u001b[38;5;241m50\u001b[39m, \u001b[38;5;241m80\u001b[39m)) \u001b[38;5;28;01mfor\u001b[39;00m _ \u001b[38;5;129;01min\u001b[39;00m \u001b[38;5;28mrange\u001b[39m(\u001b[38;5;241m6\u001b[39m)], \u001b[38;5;241m150\u001b[39m),\n\u001b[1;32m     18\u001b[0m         \u001b[38;5;124m\"\u001b[39m\u001b[38;5;124mattack\u001b[39m\u001b[38;5;124m\"\u001b[39m: Animation([pygame\u001b[38;5;241m.\u001b[39mSurface((\u001b[38;5;241m60\u001b[39m, \u001b[38;5;241m80\u001b[39m)) \u001b[38;5;28;01mfor\u001b[39;00m _ \u001b[38;5;129;01min\u001b[39;00m \u001b[38;5;28mrange\u001b[39m(\u001b[38;5;241m8\u001b[39m)], \u001b[38;5;241m200\u001b[39m),\n\u001b[1;32m     19\u001b[0m         \u001b[38;5;124m\"\u001b[39m\u001b[38;5;124mrun\u001b[39m\u001b[38;5;124m\"\u001b[39m: Animation([pygame\u001b[38;5;241m.\u001b[39mSurface((\u001b[38;5;241m55\u001b[39m, \u001b[38;5;241m80\u001b[39m)) \u001b[38;5;28;01mfor\u001b[39;00m _ \u001b[38;5;129;01min\u001b[39;00m \u001b[38;5;28mrange\u001b[39m(\u001b[38;5;241m6\u001b[39m)], \u001b[38;5;241m150\u001b[39m),\n\u001b[1;32m     20\u001b[0m         \u001b[38;5;124m\"\u001b[39m\u001b[38;5;124mdefend\u001b[39m\u001b[38;5;124m\"\u001b[39m: Animation([pygame\u001b[38;5;241m.\u001b[39mSurface((\u001b[38;5;241m50\u001b[39m, \u001b[38;5;241m80\u001b[39m)) \u001b[38;5;28;01mfor\u001b[39;00m _ \u001b[38;5;129;01min\u001b[39;00m \u001b[38;5;28mrange\u001b[39m(\u001b[38;5;241m3\u001b[39m)], \u001b[38;5;241m300\u001b[39m),\n\u001b[1;32m     21\u001b[0m         \u001b[38;5;124m\"\u001b[39m\u001b[38;5;124mjump\u001b[39m\u001b[38;5;124m\"\u001b[39m: Animation([pygame\u001b[38;5;241m.\u001b[39mSurface((\u001b[38;5;241m50\u001b[39m, \u001b[38;5;241m80\u001b[39m)) \u001b[38;5;28;01mfor\u001b[39;00m _ \u001b[38;5;129;01min\u001b[39;00m \u001b[38;5;28mrange\u001b[39m(\u001b[38;5;241m5\u001b[39m)], \u001b[38;5;241m200\u001b[39m),\n\u001b[1;32m     22\u001b[0m         \u001b[38;5;124m\"\u001b[39m\u001b[38;5;124mrun_attack\u001b[39m\u001b[38;5;124m\"\u001b[39m: Animation([pygame\u001b[38;5;241m.\u001b[39mSurface((\u001b[38;5;241m70\u001b[39m, \u001b[38;5;241m80\u001b[39m)) \u001b[38;5;28;01mfor\u001b[39;00m _ \u001b[38;5;129;01min\u001b[39;00m \u001b[38;5;28mrange\u001b[39m(\u001b[38;5;241m8\u001b[39m)], \u001b[38;5;241m150\u001b[39m)\n\u001b[1;32m     23\u001b[0m     }\n",
      "File \u001b[0;32m~/Documents/Code/game/src/animation.py:21\u001b[0m, in \u001b[0;36mAnimation.__init__\u001b[0;34m(self, sprite_image, cooldown)\u001b[0m\n\u001b[1;32m     19\u001b[0m \u001b[38;5;28mself\u001b[39m\u001b[38;5;241m.\u001b[39mcur_frame \u001b[38;5;241m=\u001b[39m \u001b[38;5;241m0\u001b[39m\n\u001b[1;32m     20\u001b[0m \u001b[38;5;28mself\u001b[39m\u001b[38;5;241m.\u001b[39mcooldown \u001b[38;5;241m=\u001b[39m cooldown\n\u001b[0;32m---> 21\u001b[0m \u001b[38;5;28mself\u001b[39m\u001b[38;5;241m.\u001b[39mframe_num \u001b[38;5;241m=\u001b[39m \u001b[43msprite_image\u001b[49m\u001b[38;5;241;43m.\u001b[39;49m\u001b[43mget_width\u001b[49m() \u001b[38;5;241m/\u001b[39m\u001b[38;5;241m/\u001b[39m \u001b[38;5;241m80\u001b[39m\n\u001b[1;32m     22\u001b[0m \u001b[38;5;28mself\u001b[39m\u001b[38;5;241m.\u001b[39mimage_frame \u001b[38;5;241m=\u001b[39m \u001b[38;5;28mself\u001b[39m\u001b[38;5;241m.\u001b[39msprite_image\u001b[38;5;241m.\u001b[39mget_image(\u001b[38;5;28mself\u001b[39m\u001b[38;5;241m.\u001b[39mcur_frame, \u001b[38;5;241m80\u001b[39m, \u001b[38;5;241m80\u001b[39m)\n",
      "\u001b[0;31mAttributeError\u001b[0m: 'list' object has no attribute 'get_width'"
     ]
    }
   ],
   "source": [
    "import pygame\n",
    "import sys\n",
    "\n",
    "# Initialize pygame\n",
    "pygame.init()\n",
    "\n",
    "# Screen setup\n",
    "WIDTH, HEIGHT = 800, 600\n",
    "screen = pygame.display.set_mode((WIDTH, HEIGHT))\n",
    "pygame.display.set_caption(\"Fighting Game\")\n",
    "clock = pygame.time.Clock()\n",
    "\n",
    "# Load assets (example - replace with your actual loading code)\n",
    "def load_animations():\n",
    "    return {\n",
    "        \"idle\": Animation([pygame.Surface((50, 80)) for _ in range(4)], 300),\n",
    "        \"move\": Animation([pygame.Surface((50, 80)) for _ in range(6)], 150),\n",
    "        \"attack\": Animation([pygame.Surface((60, 80)) for _ in range(8)], 200),\n",
    "        \"run\": Animation([pygame.Surface((55, 80)) for _ in range(6)], 150),\n",
    "        \"defend\": Animation([pygame.Surface((50, 80)) for _ in range(3)], 300),\n",
    "        \"jump\": Animation([pygame.Surface((50, 80)) for _ in range(5)], 200),\n",
    "        \"run_attack\": Animation([pygame.Surface((70, 80)) for _ in range(8)], 150)\n",
    "    }\n",
    "\n",
    "# Create player\n",
    "player_animations = load_animations()\n",
    "player = Player(x=100, y=300, speed=5, animations=player_animations)\n",
    "\n",
    "# Main game loop\n",
    "def main():\n",
    "    running = True\n",
    "    \n",
    "    while running:\n",
    "        # 1. Process events\n",
    "        events = pygame.event.get()\n",
    "        for event in events:\n",
    "            if event.type == pygame.QUIT:\n",
    "                running = False\n",
    "        \n",
    "        # 2. Update game state\n",
    "        keys = pygame.key.get_pressed()\n",
    "        player.update(events)\n",
    "        \n",
    "        # 3. Render\n",
    "        screen.fill((0, 0, 0))  # Clear screen\n",
    "        \n",
    "        # Draw background (example)\n",
    "        pygame.draw.rect(screen, (50, 50, 100), (0, 400, WIDTH, 200))  # \"Ground\"\n",
    "        \n",
    "        # Draw player\n",
    "        player.draw(screen)\n",
    "        \n",
    "        # Debug info (optional)\n",
    "        font = pygame.font.SysFont(None, 24)\n",
    "        debug_text = f\"State: {player.components['state'].current} | Pos: ({player.x}, {player.y})\"\n",
    "        debug_surface = font.render(debug_text, True, (255, 255, 255))\n",
    "        screen.blit(debug_surface, (10, 10))\n",
    "        \n",
    "        pygame.display.flip()\n",
    "        clock.tick(60)  # 60 FPS\n",
    "\n",
    "    pygame.quit()\n",
    "    sys.exit()\n",
    "\n",
    "if __name__ == \"__main__\":\n",
    "    main()"
   ]
  },
  {
   "cell_type": "code",
   "execution_count": null,
   "metadata": {},
   "outputs": [],
   "source": [
    "class AnimationComponent:\n",
    "    def __init__(self, animations):\n",
    "        self.animations = animations  # Loaded from your `load_dict_from_folder`\n",
    "        self.current = None\n",
    "    \n",
    "    def play(self, name, flip=False):\n",
    "        if name != self.current:\n",
    "            self.current = name\n",
    "            self.frame_index = 0\n",
    "            self.last_update = 0\n",
    "        \n",
    "        # Advance frames based on animation cooldown\n",
    "        now = pygame.time.get_ticks()\n",
    "        anim = self.animations[name]\n",
    "        if now - self.last_update > anim.cooldown:\n",
    "            self.frame_index = (self.frame_index + 1) % len(anim.frames)\n",
    "            self.last_update = now\n",
    "        \n",
    "        return pygame.transform.flip(anim.frames[self.frame_index], flip, False)"
   ]
  },
  {
   "cell_type": "code",
   "execution_count": null,
   "metadata": {},
   "outputs": [],
   "source": [
    "class InputBuffer:\n",
    "    def __init__(self):\n",
    "        self.buffer = []\n",
    "        self.buffer_duration = 500  # ms\n",
    "    \n",
    "    def add(self, input):\n",
    "        self.buffer.append((input, pygame.time.get_ticks()))\n",
    "        self._clean()\n",
    "    \n",
    "    def _clean(self):\n",
    "        now = pygame.time.get_ticks()\n",
    "        self.buffer = [(i,t) for i,t in self.buffer if now - t < self.buffer_duration]\n",
    "    \n",
    "    def match_combo(self, sequence):\n",
    "        return any(\n",
    "            self.buffer[-len(sequence):] == sequence \n",
    "            for sequence in COMBO_LIBRARY\n",
    "        )"
   ]
  },
  {
   "cell_type": "code",
   "execution_count": null,
   "metadata": {},
   "outputs": [],
   "source": []
  },
  {
   "cell_type": "code",
   "execution_count": null,
   "metadata": {},
   "outputs": [],
   "source": [
    "class Player:\n",
    "    def __init__(self, config):\n",
    "        self.components = {\n",
    "            'input': InputComponent(config['controls']),\n",
    "            'physics': PhysicsComponent(config['physics']),\n",
    "            'combat': CombatComponent(config['attacks']),\n",
    "            'animation': AnimationComponent(config['animations'])\n",
    "        }\n",
    "    \n",
    "    def update(self):\n",
    "        for component in self.components.values():\n",
    "            component.update(self)"
   ]
  }
 ],
 "metadata": {
  "kernelspec": {
   "display_name": "fighting",
   "language": "python",
   "name": "python3"
  },
  "language_info": {
   "codemirror_mode": {
    "name": "ipython",
    "version": 3
   },
   "file_extension": ".py",
   "mimetype": "text/x-python",
   "name": "python",
   "nbconvert_exporter": "python",
   "pygments_lexer": "ipython3",
   "version": "3.8.18"
  }
 },
 "nbformat": 4,
 "nbformat_minor": 2
}
